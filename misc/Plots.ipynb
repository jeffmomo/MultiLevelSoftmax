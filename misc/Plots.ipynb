{
 "cells": [
  {
   "cell_type": "code",
   "execution_count": null,
   "metadata": {
    "collapsed": true
   },
   "outputs": [],
   "source": [
    "import matplotlib.pyplot as plt\n",
    "import numpy as np\n",
    "\n",
    "\n",
    "\n",
    "time = np.arange(-10.0, 10.0, 0.01)\n",
    "\n",
    "\n",
    "relu = np.maximum(time, 0.0)\n",
    "sigmoid = 1 / (1 + np.exp(-time))\n",
    "tanh = 2 * (1 / (1 + np.exp(-2 * time))) - 1\n",
    "\n",
    "\n",
    "plt.plot(time, relu, time, sigmoid, time, tanh)\n",
    "plt.show()"
   ]
  }
 ],
 "metadata": {
  "kernelspec": {
   "display_name": "Python 2",
   "language": "python",
   "name": "python2"
  },
  "language_info": {
   "codemirror_mode": {
    "name": "ipython",
    "version": 2.0
   },
   "file_extension": ".py",
   "mimetype": "text/x-python",
   "name": "python",
   "nbconvert_exporter": "python",
   "pygments_lexer": "ipython2",
   "version": "2.7.6"
  }
 },
 "nbformat": 4,
 "nbformat_minor": 0
}